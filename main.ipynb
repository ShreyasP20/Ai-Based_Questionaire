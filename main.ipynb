{
 "cells": [
  {
   "attachments": {},
   "cell_type": "markdown",
   "metadata": {},
   "source": [
    "## AI-Based Questionnaire"
   ]
  },
  {
   "cell_type": "code",
   "execution_count": 90,
   "metadata": {},
   "outputs": [],
   "source": [
    "from pyresparser import ResumeParser as repr\n",
    "import os\n",
    "import time\n",
    "import playsound\n",
    "import speech_recognition as sr\n",
    "from gtts import gTTS\n",
    "import pathlib\n",
    "import textwrap\n",
    "import google.generativeai as genai\n",
    "from IPython.display import display\n",
    "from IPython.display import Markdown\n",
    "import json\n",
    "import time\n",
    "from nltk.tokenize import word_tokenize\n",
    "from nltk.corpus import stopwords\n",
    "genai.configure(api_key='GEMINI_API_KEY')\n",
    "model = genai.GenerativeModel('gemini-pro')\n"
   ]
  },
  {
   "cell_type": "code",
   "execution_count": 10,
   "metadata": {},
   "outputs": [],
   "source": [
    "def speak(text):\n",
    "    tts = gTTS(text=text, lang=\"en\")\n",
    "    filename = \"voice.mp3\"\n",
    "    tts.save(filename)\n",
    "    playsound.playsound(filename)"
   ]
  },
  {
   "cell_type": "code",
   "execution_count": 11,
   "metadata": {},
   "outputs": [],
   "source": [
    "def get_audio():\n",
    "    r = sr.Recognizer()\n",
    "    with sr.Microphone() as source:\n",
    "        audio = r.listen(source)\n",
    "        said = \"\"\n",
    "\n",
    "        try:\n",
    "            said = r.recognize_google(audio)\n",
    "            print(said)\n",
    "        except Exception as e:\n",
    "            print(\"Exception: \" + str(e))\n",
    "\n",
    "    return said"
   ]
  },
  {
   "cell_type": "code",
   "execution_count": 9,
   "metadata": {},
   "outputs": [
    {
     "name": "stderr",
     "output_type": "stream",
     "text": [
      "C:\\Users\\lucif\\AppData\\Local\\Packages\\PythonSoftwareFoundation.Python.3.11_qbz5n2kfra8p0\\LocalCache\\local-packages\\Python311\\site-packages\\spacy\\util.py:275: UserWarning: [W031] Model 'en_training' (0.0.0) requires spaCy v2.1 and is incompatible with the current spaCy version (2.3.9). This may lead to unexpected results or runtime errors. To resolve this, download a newer compatible model or retrain your custom model with the current spaCy version. For more details and available updates, run: python -m spacy validate\n",
      "  warnings.warn(warn_msg)\n"
     ]
    }
   ],
   "source": [
    "data = repr('D:\\Shreyas_Codez\\Ai-Based_Questionaire\\Resume-Praser\\Shreyas_Patil_Resumee.pdf').get_extracted_data()"
   ]
  },
  {
   "cell_type": "code",
   "execution_count": 15,
   "metadata": {},
   "outputs": [
    {
     "name": "stderr",
     "output_type": "stream",
     "text": [
      "\n",
      "    Error 263 for command:\n",
      "        close voice.mp3\n",
      "    The specified device is not open or is not recognized by MCI.\n",
      "Failed to close the file: voice.mp3\n"
     ]
    }
   ],
   "source": [
    "name = data['name']\n",
    "skills= data['skills']\n",
    "\n",
    "speak(f'Hi, did i get ur name right {name}')"
   ]
  },
  {
   "cell_type": "code",
   "execution_count": 16,
   "metadata": {},
   "outputs": [],
   "source": [
    "try:\n",
    "    os.remove('voice.mp3')\n",
    "except:\n",
    "    pass"
   ]
  },
  {
   "cell_type": "code",
   "execution_count": 20,
   "metadata": {},
   "outputs": [],
   "source": [
    "j_d=input(\"Enter The Job Description, You are Preparing For:\")"
   ]
  },
  {
   "cell_type": "code",
   "execution_count": 59,
   "metadata": {},
   "outputs": [],
   "source": [
    "response = model.generate_content(f\"You are a recruiter at a Company, ask five questions and give answers for {j_d} in a company. the Skillset of the person is {skills}, give a dictionary output which has questions as keys and answers\")\n"
   ]
  },
  {
   "cell_type": "code",
   "execution_count": 60,
   "metadata": {},
   "outputs": [
    {
     "data": {
      "text/plain": [
       "'```\\n{\\n  \"1. What is your experience with Python and SQL in the context of data analysis?\": \"I have extensive experience using Python for data cleaning, data visualization, and machine learning. I am also proficient in SQL for data querying and manipulation.\",\\n  \"2. Can you describe your experience with data collection and analysis?\": \"I have experience in collecting data from various sources, including web scraping, APIs, and databases. I am also familiar with data cleaning techniques and have experience using statistical methods to analyze data.\",\\n  \"3. Do you have any experience with cloud computing platforms such as AWS or Azure?\": \"I have some experience with AWS, particularly with Amazon S3 for data storage and Amazon SageMaker for machine learning.\",\\n  \"4. What are your strengths and weaknesses as a data analyst?\": \"My strengths include my strong technical skills, my ability to communicate complex technical concepts clearly, and my passion for data analysis. My weaknesses include my limited experience with some specialized data analysis techniques and my relative lack of industry experience.\",\\n  \"5. Why are you interested in this internship and how do you think your skills can contribute to our team?\": \"I am interested in this internship because it aligns with my career goals of becoming a data analyst. I believe my skills in data analysis, programming, and communication would be valuable to your team, and I am eager to learn from experienced professionals in the field.\"\\n}\\n```'"
      ]
     },
     "execution_count": 60,
     "metadata": {},
     "output_type": "execute_result"
    }
   ],
   "source": [
    "response.text"
   ]
  },
  {
   "cell_type": "code",
   "execution_count": 52,
   "metadata": {},
   "outputs": [
    {
     "data": {
      "text/plain": [
       "str"
      ]
     },
     "execution_count": 52,
     "metadata": {},
     "output_type": "execute_result"
    }
   ],
   "source": [
    "type(response.text)"
   ]
  },
  {
   "cell_type": "code",
   "execution_count": 61,
   "metadata": {},
   "outputs": [],
   "source": [
    "data_string = response.text.replace('\\n', '').replace('```', '')\n"
   ]
  },
  {
   "cell_type": "code",
   "execution_count": 64,
   "metadata": {},
   "outputs": [
    {
     "name": "stdout",
     "output_type": "stream",
     "text": [
      "{'1. What is your experience with Python and SQL in the context of data analysis?': 'I have extensive experience using Python for data cleaning, data visualization, and machine learning. I am also proficient in SQL for data querying and manipulation.', '2. Can you describe your experience with data collection and analysis?': 'I have experience in collecting data from various sources, including web scraping, APIs, and databases. I am also familiar with data cleaning techniques and have experience using statistical methods to analyze data.', '3. Do you have any experience with cloud computing platforms such as AWS or Azure?': 'I have some experience with AWS, particularly with Amazon S3 for data storage and Amazon SageMaker for machine learning.', '4. What are your strengths and weaknesses as a data analyst?': 'My strengths include my strong technical skills, my ability to communicate complex technical concepts clearly, and my passion for data analysis. My weaknesses include my limited experience with some specialized data analysis techniques and my relative lack of industry experience.', '5. Why are you interested in this internship and how do you think your skills can contribute to our team?': 'I am interested in this internship because it aligns with my career goals of becoming a data analyst. I believe my skills in data analysis, programming, and communication would be valuable to your team, and I am eager to learn from experienced professionals in the field.'}\n"
     ]
    }
   ],
   "source": [
    "q_a = json.loads(data_string)\n",
    "print(q_a)"
   ]
  },
  {
   "cell_type": "code",
   "execution_count": 87,
   "metadata": {},
   "outputs": [
    {
     "data": {
      "text/plain": [
       "dict"
      ]
     },
     "execution_count": 87,
     "metadata": {},
     "output_type": "execute_result"
    }
   ],
   "source": [
    "type(q_a)\n"
   ]
  },
  {
   "cell_type": "code",
   "execution_count": 86,
   "metadata": {},
   "outputs": [],
   "source": [
    "os.remove('voice.mp3')"
   ]
  },
  {
   "cell_type": "code",
   "execution_count": 88,
   "metadata": {},
   "outputs": [
    {
     "name": "stdout",
     "output_type": "stream",
     "text": [
      "Exception: \n"
     ]
    }
   ],
   "source": [
    "if os.path.exists('voice.mp3'):       \n",
    "    os.remove('voice.mp3')  \n",
    "    time.sleep(2)\n",
    "speak('1. What is your experience with Python and SQL in the context of data analysis?')  \n",
    "\n",
    "time.sleep(20)\n",
    "u_a = get_audio() "
   ]
  },
  {
   "cell_type": "code",
   "execution_count": 91,
   "metadata": {},
   "outputs": [
    {
     "name": "stdout",
     "output_type": "stream",
     "text": [
      "Similarity score: 0.9375\n"
     ]
    }
   ],
   "source": [
    "answer1 = \"I have extensive experience using Python for data cleaning, data visualization, and machine learning. I am also proficient in SQL for data querying and manipulation.\"\n",
    "answer2 = \"I have experience using Python for data cleaning, data visualization, and machine learning. I am also proficient in SQL for data querying and manipulation.\"\n",
    "\n",
    "tokens1 = set(word_tokenize(answer1.lower())) - set(stopwords.words('english'))\n",
    "tokens2 = set(word_tokenize(answer2.lower())) - set(stopwords.words('english'))\n",
    "\n",
    "similarity_score = len(tokens1.intersection(tokens2)) / len(tokens1.union(tokens2))\n",
    "\n",
    "print(\"Similarity score:\", similarity_score)"
   ]
  }
 ],
 "metadata": {
  "kernelspec": {
   "display_name": "Python 3",
   "language": "python",
   "name": "python3"
  },
  "language_info": {
   "codemirror_mode": {
    "name": "ipython",
    "version": 3
   },
   "file_extension": ".py",
   "mimetype": "text/x-python",
   "name": "python",
   "nbconvert_exporter": "python",
   "pygments_lexer": "ipython3",
   "version": "3.11.8"
  },
  "orig_nbformat": 4
 },
 "nbformat": 4,
 "nbformat_minor": 2
}
