{
 "cells": [
  {
   "cell_type": "code",
   "execution_count": 1,
   "metadata": {},
   "outputs": [],
   "source": [
    "import requests"
   ]
  },
  {
   "cell_type": "code",
   "execution_count": 10,
   "metadata": {},
   "outputs": [],
   "source": [
    "res=requests.get(url='https://jobs.careers.microsoft.com/global/en/job/1696069/Data-Center-Technician')"
   ]
  },
  {
   "cell_type": "code",
   "execution_count": 11,
   "metadata": {},
   "outputs": [
    {
     "name": "stdout",
     "output_type": "stream",
     "text": [
      "<Response [200]>\n"
     ]
    }
   ],
   "source": [
    "print(res)"
   ]
  },
  {
   "cell_type": "code",
   "execution_count": 12,
   "metadata": {},
   "outputs": [],
   "source": [
    "from bs4 import BeautifulSoup\n",
    "\n",
    "sou=BeautifulSoup(res.content, 'html.parser')"
   ]
  },
  {
   "cell_type": "code",
   "execution_count": 13,
   "metadata": {},
   "outputs": [
    {
     "data": {
      "text/plain": [
       "<!DOCTYPE html>\n",
       "<html lang=\"en\"><head><meta charset=\"utf-8\" content=\"width=device-width,initial-scale=1\" name=\"viewport\"/><link data-ph-id=\"ph-page-element-page37-Ipyocj\" href=\"https://prodcmscdn.azureedge.net/careerconnectresources/p/MICRUS/en_us/desktop/assets/images/favicon.ico\" rel=\"icon\" type=\"image/x-icon\"/><title>Search Jobs | Microsoft Careers</title><base href=\"/\"/><script src=\"https://js.monitor.azure.com/scripts/c/ms.analytics-web-3.min.js\"></script><script async=\"\" src=\"/static/scripts/officebrowserfeedback_floodgate.min.js\"></script><link href=\"/static/css/main.dfdf86e4.chunk.css\" rel=\"stylesheet\"/></head><body><div id=\"app\"></div><script src=\"https://code.jquery.com/jquery-3.5.1.min.js\"></script><script>const awaanalytics=new oneDS.ApplicationInsights;function intializeAdobeAnalytics(a){try{awaanalytics.initialize(a,[])}catch(a){console.log(\"Adobe Analytice initialization failed\")}}function trackPageView(a){var e=document.URL;a.urlCollectQuery=!0,a.uri=e,a.referrerUri=document.referrer||window.location.hostname,a.isAuto=!0;try{a.behavior&&61==a.behavior?awaanalytics.capturePageAction(null,a):(a.behavior=14,a.pageName=\"/\"+a.pageName,awaanalytics.capturePageView(a))}catch(a){console.log(\"Adobe Analytics event firing failed\")}}function trackAnalyticsEvent(a,e,i){try{i.uri=document.URL,i.referrerUri=document.referrer||window.location.hostname,i.pageName=\"/\"+i.pageName,a&&\"PageAction\"==a?awaanalytics.capturePageAction(null,i):awaanalytics.capturePageView(i)}catch(a){console.log(\"Adobe Analytics event firing failed\")}}</script><script>!function(e){function r(r){for(var n,a,i=r[0],c=r[1],l=r[2],s=0,p=[];s<i.length;s++)a=i[s],Object.prototype.hasOwnProperty.call(o,a)&&o[a]&&p.push(o[a][0]),o[a]=0;for(n in c)Object.prototype.hasOwnProperty.call(c,n)&&(e[n]=c[n]);for(f&&f(r);p.length;)p.shift()();return u.push.apply(u,l||[]),t()}function t(){for(var e,r=0;r<u.length;r++){for(var t=u[r],n=!0,i=1;i<t.length;i++){var c=t[i];0!==o[c]&&(n=!1)}n&&(u.splice(r--,1),e=a(a.s=t[0]))}return e}var n={},o={2:0},u=[];function a(r){if(n[r])return n[r].exports;var t=n[r]={i:r,l:!1,exports:{}};return e[r].call(t.exports,t,t.exports,a),t.l=!0,t.exports}a.e=function(e){var r=[],t=o[e];if(0!==t)if(t)r.push(t[2]);else{var n=new Promise((function(r,n){t=o[e]=[r,n]}));r.push(t[2]=n);var u,i=document.createElement(\"script\");i.charset=\"utf-8\",i.timeout=120,a.nc&&i.setAttribute(\"nonce\",a.nc),i.src=function(e){return a.p+\"static/js/\"+({1:\"polyfills-dom\"}[e]||e)+\".\"+{1:\"23a25506\",4:\"5cfabb27\",5:\"43e60fd0\"}[e]+\".chunk.js\"}(e);var c=new Error;u=function(r){i.onerror=i.onload=null,clearTimeout(l);var t=o[e];if(0!==t){if(t){var n=r&&(\"load\"===r.type?\"missing\":r.type),u=r&&r.target&&r.target.src;c.message=\"Loading chunk \"+e+\" failed.\\n(\"+n+\": \"+u+\")\",c.name=\"ChunkLoadError\",c.type=n,c.request=u,t[1](c)}o[e]=void 0}};var l=setTimeout((function(){u({type:\"timeout\",target:i})}),12e4);i.onerror=i.onload=u,document.head.appendChild(i)}return Promise.all(r)},a.m=e,a.c=n,a.d=function(e,r,t){a.o(e,r)||Object.defineProperty(e,r,{enumerable:!0,get:t})},a.r=function(e){\"undefined\"!=typeof Symbol&&Symbol.toStringTag&&Object.defineProperty(e,Symbol.toStringTag,{value:\"Module\"}),Object.defineProperty(e,\"__esModule\",{value:!0})},a.t=function(e,r){if(1&r&&(e=a(e)),8&r)return e;if(4&r&&\"object\"==typeof e&&e&&e.__esModule)return e;var t=Object.create(null);if(a.r(t),Object.defineProperty(t,\"default\",{enumerable:!0,value:e}),2&r&&\"string\"!=typeof e)for(var n in e)a.d(t,n,function(r){return e[r]}.bind(null,n));return t},a.n=function(e){var r=e&&e.__esModule?function(){return e.default}:function(){return e};return a.d(r,\"a\",r),r},a.o=function(e,r){return Object.prototype.hasOwnProperty.call(e,r)},a.p=\"/\",a.oe=function(e){throw console.error(e),e};var i=this[\"webpackJsonpmicrosoft-careersvnext\"]=this[\"webpackJsonpmicrosoft-careersvnext\"]||[],c=i.push.bind(i);i.push=r,i=i.slice();for(var l=0;l<i.length;l++)r(i[l]);var f=c;t()}([])</script><script src=\"/static/js/3.d9664d5d.chunk.js\"></script><script src=\"/static/js/main.7bf158c4.chunk.js\"></script></body></html>"
      ]
     },
     "execution_count": 13,
     "metadata": {},
     "output_type": "execute_result"
    }
   ],
   "source": [
    "sou"
   ]
  },
  {
   "cell_type": "code",
   "execution_count": 14,
   "metadata": {},
   "outputs": [],
   "source": [
    "job=sou.find('h1')"
   ]
  },
  {
   "cell_type": "code",
   "execution_count": null,
   "metadata": {},
   "outputs": [],
   "source": []
  },
  {
   "cell_type": "code",
   "execution_count": null,
   "metadata": {},
   "outputs": [],
   "source": []
  }
 ],
 "metadata": {
  "kernelspec": {
   "display_name": "Python 3",
   "language": "python",
   "name": "python3"
  },
  "language_info": {
   "codemirror_mode": {
    "name": "ipython",
    "version": 3
   },
   "file_extension": ".py",
   "mimetype": "text/x-python",
   "name": "python",
   "nbconvert_exporter": "python",
   "pygments_lexer": "ipython3",
   "version": "3.11.8"
  },
  "orig_nbformat": 4
 },
 "nbformat": 4,
 "nbformat_minor": 2
}
