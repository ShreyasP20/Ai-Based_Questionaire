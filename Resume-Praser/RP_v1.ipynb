{
 "cells": [
  {
   "cell_type": "code",
   "execution_count": 1,
   "metadata": {},
   "outputs": [],
   "source": [
    "from pyresparser import ResumeParser as repr"
   ]
  },
  {
   "cell_type": "code",
   "execution_count": 2,
   "metadata": {},
   "outputs": [
    {
     "name": "stderr",
     "output_type": "stream",
     "text": [
      "C:\\Users\\lucif\\AppData\\Local\\Packages\\PythonSoftwareFoundation.Python.3.11_qbz5n2kfra8p0\\LocalCache\\local-packages\\Python311\\site-packages\\spacy\\util.py:275: UserWarning: [W031] Model 'en_training' (0.0.0) requires spaCy v2.1 and is incompatible with the current spaCy version (2.3.9). This may lead to unexpected results or runtime errors. To resolve this, download a newer compatible model or retrain your custom model with the current spaCy version. For more details and available updates, run: python -m spacy validate\n",
      "  warnings.warn(warn_msg)\n"
     ]
    },
    {
     "name": "stdout",
     "output_type": "stream",
     "text": [
      "{'name': 'Shreyas Patil', 'email': None, 'mobile_number': '9167939171', 'skills': ['Analytical', 'Acquisition', 'Updates', 'Sql', 'English', 'Ai', 'Database', 'Design', 'Mysql', 'System', 'Data collection', 'Ibm', 'Algorithms', 'C++', 'Analytics', 'Engineering', 'Pr', 'Industry experience', 'Hardware', 'C', 'Certification', 'Datasets', 'Python', 'Programming', 'Conversion', 'Communication', 'Research', 'Machine learning'], 'college_name': None, 'degree': ['Bachelor  of  Technology  in  Computer  Science  Engineering'], 'designation': None, 'experience': None, 'company_names': None, 'no_of_pages': 2, 'total_experience': 0}\n"
     ]
    }
   ],
   "source": [
    "data = repr('D:\\Shreyas_Codez\\Ai-Based_Questionaire\\Resume-Praser\\Shreyas_Patil_Resumee.pdf').get_extracted_data()\n",
    "\n",
    "print(data)"
   ]
  },
  {
   "cell_type": "code",
   "execution_count": 3,
   "metadata": {},
   "outputs": [
    {
     "data": {
      "text/plain": [
       "dict"
      ]
     },
     "execution_count": 3,
     "metadata": {},
     "output_type": "execute_result"
    }
   ],
   "source": [
    "type(data)"
   ]
  },
  {
   "cell_type": "code",
   "execution_count": 4,
   "metadata": {},
   "outputs": [
    {
     "data": {
      "text/plain": [
       "dict_keys(['name', 'email', 'mobile_number', 'skills', 'college_name', 'degree', 'designation', 'experience', 'company_names', 'no_of_pages', 'total_experience'])"
      ]
     },
     "execution_count": 4,
     "metadata": {},
     "output_type": "execute_result"
    }
   ],
   "source": [
    "data.keys()"
   ]
  },
  {
   "cell_type": "code",
   "execution_count": 5,
   "metadata": {},
   "outputs": [
    {
     "data": {
      "text/plain": [
       "['Analytical',\n",
       " 'Acquisition',\n",
       " 'Updates',\n",
       " 'Sql',\n",
       " 'English',\n",
       " 'Ai',\n",
       " 'Database',\n",
       " 'Design',\n",
       " 'Mysql',\n",
       " 'System',\n",
       " 'Data collection',\n",
       " 'Ibm',\n",
       " 'Algorithms',\n",
       " 'C++',\n",
       " 'Analytics',\n",
       " 'Engineering',\n",
       " 'Pr',\n",
       " 'Industry experience',\n",
       " 'Hardware',\n",
       " 'C',\n",
       " 'Certification',\n",
       " 'Datasets',\n",
       " 'Python',\n",
       " 'Programming',\n",
       " 'Conversion',\n",
       " 'Communication',\n",
       " 'Research',\n",
       " 'Machine learning']"
      ]
     },
     "execution_count": 5,
     "metadata": {},
     "output_type": "execute_result"
    }
   ],
   "source": [
    "data['skills']"
   ]
  },
  {
   "cell_type": "code",
   "execution_count": 8,
   "metadata": {},
   "outputs": [],
   "source": [
    "name = data['name']"
   ]
  },
  {
   "cell_type": "code",
   "execution_count": 9,
   "metadata": {},
   "outputs": [
    {
     "name": "stdout",
     "output_type": "stream",
     "text": [
      "Hi Shreyas Patil\n"
     ]
    }
   ],
   "source": [
    "print(f'Hi { name }')"
   ]
  },
  {
   "cell_type": "code",
   "execution_count": null,
   "metadata": {},
   "outputs": [],
   "source": []
  }
 ],
 "metadata": {
  "kernelspec": {
   "display_name": "Python 3",
   "language": "python",
   "name": "python3"
  },
  "language_info": {
   "codemirror_mode": {
    "name": "ipython",
    "version": 3
   },
   "file_extension": ".py",
   "mimetype": "text/x-python",
   "name": "python",
   "nbconvert_exporter": "python",
   "pygments_lexer": "ipython3",
   "version": "3.11.8"
  },
  "orig_nbformat": 4
 },
 "nbformat": 4,
 "nbformat_minor": 2
}
